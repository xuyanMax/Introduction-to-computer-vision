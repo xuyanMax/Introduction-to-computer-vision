{
  "nbformat": 4,
  "nbformat_minor": 0,
  "metadata": {
    "colab": {
      "name": "“Exercise 1 - House Prices - Question.ipynb”的副本",
      "version": "0.3.2",
      "provenance": []
    },
    "kernelspec": {
      "name": "python3",
      "display_name": "Python 3"
    }
  },
  "cells": [
    {
      "cell_type": "markdown",
      "metadata": {
        "id": "mw2VBrBcgvGa",
        "colab_type": "text"
      },
      "source": [
        "In this exercise you'll try to build a neural network that predicts the price of a house according to a simple formula.\n",
        "\n",
        "So, imagine if house pricing was as easy as a house costs 50k + 50k per bedroom, so that a 1 bedroom house costs 100k, a 2 bedroom house costs 150k etc.\n",
        "\n",
        "How would you create a neural network that learns this relationship so that it would predict a 7 bedroom house as costing close to 400k etc.\n",
        "\n",
        "Hint: Your network might work better if you scale the house price down. You don't have to give the answer 400...it might be better to create something that predicts the number 4, and then your answer is in the 'hundreds of thousands' etc."
      ]
    },
    {
      "cell_type": "code",
      "metadata": {
        "id": "PUNO2E6SeURH",
        "colab_type": "code",
        "outputId": "b7c3ef26-1891-4d8d-d3a9-ca6ee416f446",
        "colab": {
          "base_uri": "https://localhost:8080/",
          "height": 714
        }
      },
      "source": [
        "import tensorflow as tf\n",
        "import numpy as np\n",
        "from tensorflow import keras\n",
        "model = tf.keras.Sequential([keras.layers.Dense(units=1, input_shape=[1])])# Your Code Here#\n",
        "model.compile(optimizer='sgd', loss='mean_squared_error')# Your Code Here#)\n",
        "xs = np.array([1,2,3,4,5], dtype=float)# Your Code Here#\n",
        "ys = np.array([100.0,150.0,200.0,250.0,300.0], dtype=float)# Your Code Here#\n",
        "ys = ys / 100.0\n",
        "model.fit(xs, ys, epochs=20)# Your Code here#)\n",
        "print(model.predict([7.0]))"
      ],
      "execution_count": 0,
      "outputs": [
        {
          "output_type": "stream",
          "text": [
            "Epoch 1/20\n",
            "5/5 [==============================] - 0s 37ms/sample - loss: 9.1127\n",
            "Epoch 2/20\n",
            "5/5 [==============================] - 0s 277us/sample - loss: 5.3506\n",
            "Epoch 3/20\n",
            "5/5 [==============================] - 0s 411us/sample - loss: 3.1579\n",
            "Epoch 4/20\n",
            "5/5 [==============================] - 0s 321us/sample - loss: 1.8799\n",
            "Epoch 5/20\n",
            "5/5 [==============================] - 0s 357us/sample - loss: 1.1348\n",
            "Epoch 6/20\n",
            "5/5 [==============================] - 0s 497us/sample - loss: 0.7004\n",
            "Epoch 7/20\n",
            "5/5 [==============================] - 0s 378us/sample - loss: 0.4470\n",
            "Epoch 8/20\n",
            "5/5 [==============================] - 0s 325us/sample - loss: 0.2990\n",
            "Epoch 9/20\n",
            "5/5 [==============================] - 0s 348us/sample - loss: 0.2125\n",
            "Epoch 10/20\n",
            "5/5 [==============================] - 0s 395us/sample - loss: 0.1619\n",
            "Epoch 11/20\n",
            "5/5 [==============================] - 0s 378us/sample - loss: 0.1321\n",
            "Epoch 12/20\n",
            "5/5 [==============================] - 0s 398us/sample - loss: 0.1145\n",
            "Epoch 13/20\n",
            "5/5 [==============================] - 0s 664us/sample - loss: 0.1040\n",
            "Epoch 14/20\n",
            "5/5 [==============================] - 0s 231us/sample - loss: 0.0976\n",
            "Epoch 15/20\n",
            "5/5 [==============================] - 0s 393us/sample - loss: 0.0936\n",
            "Epoch 16/20\n",
            "5/5 [==============================] - 0s 323us/sample - loss: 0.0911\n",
            "Epoch 17/20\n",
            "5/5 [==============================] - 0s 251us/sample - loss: 0.0893\n",
            "Epoch 18/20\n",
            "5/5 [==============================] - 0s 307us/sample - loss: 0.0881\n",
            "Epoch 19/20\n",
            "5/5 [==============================] - 0s 278us/sample - loss: 0.0871\n",
            "Epoch 20/20\n",
            "5/5 [==============================] - 0s 275us/sample - loss: 0.0863\n",
            "[[4.6707916]]\n"
          ],
          "name": "stdout"
        }
      ]
    }
  ]
}